{
 "cells": [
  {
   "cell_type": "code",
   "execution_count": null,
   "metadata": {},
   "outputs": [],
   "source": [
    "using InstantiateFromURL\n",
    "activate_github(\"QuantEcon/QuantEconLecturePackages\", tag = \"v0.9.0\");\n",
    "using LinearAlgebra, Statistics, Compat, Plots, Parameters"
   ]
  },
  {
   "cell_type": "code",
   "execution_count": null,
   "metadata": {},
   "outputs": [],
   "source": [
    "parameters=(a=0.2,b=0.2,c=0.5,d=1.0,σ=0.1,n=50,k=5,m=100) # k=# of parameters; set m=100 to have more reps.\n",
    "n_parameters=[\"a\", \"b\", \"c\", \"d\",\"theta\", \"n\", \"np\", \"m\"]\n",
    "\n",
    "function simulation() #Simulate the data\n",
    "    @unpack a,b,c,d,σ,n,k= parameters\n",
    "    beta=[a, b ,c, d, σ]\n",
    "    x1=randn(n)\n",
    "    x2=randn(n)\n",
    "    x=[x1 x1.^2 x2 ones(n)]\n",
    "    w=randn(n)\n",
    "    y=x*beta[1:k-1]+beta[k]*w\n",
    "    return(y=y, x=x)\n",
    "end\n",
    "\n",
    "function ols() #Calculates OLS using simulated data\n",
    "    @unpack n,k= parameters\n",
    "    y,x=simulation() #Possible to include other dataset\n",
    "    β=zeros(k)\n",
    "    β[1:k-1]=x'x\\x'y #Estimation of coefficients\n",
    "    β[k]=sqrt(sum((y-x*β[1:k-1]).^2)/(n-1)) #Estimates variance of errors\n",
    "    return β\n",
    "end\n",
    "\n",
    "@show ols() #just to check\n",
    "\n",
    "function rep_p()\n",
    "    @unpack n,k,m= parameters\n",
    "    β_m=zeros(k,m) #Matrix to storage results, with m repitition. Each repitition is a column\n",
    "    [β_m[:,i]=ols() for i in 1:m]\n",
    "    return β_m\n",
    "end\n",
    "\n",
    "\n",
    "l = @layout [  a{0.3w} [b{0.5h} c{0.5h}; #To deal with 5 subplots\n",
    "                         d{0.5h} e{0.5h}]]\n",
    "\n",
    "function hist_p(y) #Histrogram of parameters\n",
    "    @unpack k= parameters\n",
    "    histogram([y[p,:] for p in 1:k], layout=l,\n",
    "    title = [\"$(n_parameters[p])\" for j = 1:1, p=1:k], legend=false, xtickfont = font(5))\n",
    "end\n",
    "\n",
    "hist_p(rep_p()) #Histrogram of parameters, values obtaiend from m repetitions of the estimation"
   ]
  },
  {
   "cell_type": "code",
   "execution_count": null,
   "metadata": {},
   "outputs": [],
   "source": []
  }
 ],
 "metadata": {
  "kernelspec": {
   "display_name": "Julia 1.0.1",
   "language": "julia",
   "name": "julia-1.0"
  },
  "language_info": {
   "file_extension": ".jl",
   "mimetype": "application/julia",
   "name": "julia",
   "version": "1.0.1"
  }
 },
 "nbformat": 4,
 "nbformat_minor": 2
}
